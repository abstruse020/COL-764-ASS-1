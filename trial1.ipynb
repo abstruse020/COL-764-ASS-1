{
 "cells": [
  {
   "cell_type": "code",
   "execution_count": 1,
   "metadata": {},
   "outputs": [],
   "source": [
    "from platform import python_version"
   ]
  },
  {
   "cell_type": "code",
   "execution_count": 2,
   "metadata": {},
   "outputs": [
    {
     "name": "stdout",
     "output_type": "stream",
     "text": [
      "3.7.1\n"
     ]
    }
   ],
   "source": [
    "print(python_version())"
   ]
  },
  {
   "cell_type": "code",
   "execution_count": 3,
   "metadata": {},
   "outputs": [],
   "source": [
    "from bs4 import BeautifulSoup"
   ]
  },
  {
   "cell_type": "code",
   "execution_count": 5,
   "metadata": {},
   "outputs": [],
   "source": [
    "file = open(\"tipster-ap-frac/ap880212\",'r')\n",
    "contents = file.read()"
   ]
  },
  {
   "cell_type": "code",
   "execution_count": 25,
   "metadata": {
    "scrolled": true
   },
   "outputs": [
    {
     "name": "stdout",
     "output_type": "stream",
     "text": [
      "<_io.TextIOWrapper name='tipster-ap-frac/ap880212' mode='r' encoding='cp1252'>\n"
     ]
    }
   ],
   "source": [
    "i =1\n",
    "print(file)"
   ]
  },
  {
   "cell_type": "code",
   "execution_count": null,
   "metadata": {},
   "outputs": [],
   "source": []
  },
  {
   "cell_type": "code",
   "execution_count": null,
   "metadata": {},
   "outputs": [],
   "source": []
  },
  {
   "cell_type": "code",
   "execution_count": 24,
   "metadata": {},
   "outputs": [],
   "source": [
    "file.close()"
   ]
  },
  {
   "cell_type": "code",
   "execution_count": 17,
   "metadata": {},
   "outputs": [
    {
     "name": "stdout",
     "output_type": "stream",
     "text": [
      "<?xml version=\"1.0\" encoding=\"utf-8\"?>\n",
      "<DOC>\n",
      "<DOCNO> AP880212-0001 </DOCNO>\n",
      "<FILEID>AP-NR-02-12-88 2344EST</FILEID>\n",
      "<FIRST>u i AM-Vietnam-Amnesty     02-12 0398</FIRST>\n",
      "<SECOND>AM-Vietnam-Amnesty,0411</SECOND>\n",
      "<HEAD>Reports Former Saigon Officials Released from Re-education Camp</HEAD>\n",
      "<DATELINE>BANGKOK, Thailand (AP) </DATELINE>\n",
      "<TEXT>\n",
      "   More than 150 former officers of the\n",
      "overthrown South Vietnamese government have been released from a\n",
      "re-education camp after 13 years of detention, the official Vietnam\n",
      "News Agency reported Saturday.\n",
      "   The report from Hanoi, monitored in Bangkok, did not give\n",
      "specific figures, but said those freed Friday included an\n",
      "ex-Cabinet minister, a deputy minister, 10 generals, 115\n",
      "field-grade officers and 25 chaplains.\n",
      "   It quoted Col. Luu Van Ham, director of the Nam Ha camp south of\n",
      "Hanoi, as saying all 700 former South Vietnamese officials who had\n",
      "been held at the camp now have been released.\n",
      "   They were among 1,014 South Vietnamese who were to be released\n",
      "from re-education camps under an amnesty announced by the Communist\n",
      "government to mark Tet, the lunar new year that begins Feb. 17.\n",
      "   The Vietnam News Agency report said many foreign journalists and\n",
      "a delegation from the Australia-Vietnam Friendship Association\n",
      "attended the Nam Ha release ceremony.\n",
      "   It said Lt. Gen. Nguyen Vinh Nghi, former commander of South\n",
      "Vietnam's Third Army Corps, and Col. Tran Duc Minh, former director\n",
      "of the Army Infantry Officers School, expressed ``gratitude to the\n",
      "government for its humane treatment in spite of the fact that most\n",
      "of them (detainees) had committed heinous crimes against the\n",
      "country and people.''\n",
      "   The prisoners had been held without formal charges or trial\n",
      "since North Vietnam defeated the U.S.-backed South Vietnamese\n",
      "government in April 1975, ending the Vietnam War.\n",
      "   Communist authorities had called the prisoners war criminals and\n",
      "said they had to learn how to become citizens of the new society.\n",
      "   Small numbers had been released occasionally without publicity\n",
      "but the government announced last year that 480 political prisoners\n",
      "would be freed to mark National Day on Sept. 2.\n",
      "   On Thursday, Vice Minister of Information Phan Quang said 1,014\n",
      "would be released under the Tet amnesty.\n",
      "   He reported a total of 150 prisoners would remain in the camps,\n",
      "which he said once held 100,000.\n",
      "   ``Depending on their repentance, they will gradually be released\n",
      "within a short period of time,'' Quang said.\n",
      "   He said many of the former inmates would return to their\n",
      "families in Ho Chi Minh City, formerly the South Vietnamese capital\n",
      "of Saigon.\n",
      "   The amnesties apparently are part of efforts by Communist Party\n",
      "chief Nguyen Van Linh to heal internal divisions and improve\n",
      "Vietnam's image abroad.\n",
      "</TEXT>\n",
      "</DOC>\n"
     ]
    }
   ],
   "source": [
    "print(contents)"
   ]
  },
  {
   "cell_type": "code",
   "execution_count": 7,
   "metadata": {},
   "outputs": [],
   "source": [
    "contents = BeautifulSoup(contents, 'xml')"
   ]
  },
  {
   "cell_type": "code",
   "execution_count": 16,
   "metadata": {},
   "outputs": [
    {
     "data": {
      "text/plain": [
       "1"
      ]
     },
     "execution_count": 16,
     "metadata": {},
     "output_type": "execute_result"
    }
   ],
   "source": [
    "len(contents)"
   ]
  },
  {
   "cell_type": "code",
   "execution_count": 15,
   "metadata": {},
   "outputs": [
    {
     "name": "stdout",
     "output_type": "stream",
     "text": [
      "1\n",
      " AP880212-0001 \n",
      "0\n"
     ]
    }
   ],
   "source": [
    "doc1 = contents.find_all('DOCNO')\n",
    "for data,i in zip(doc1, range(len(doc1))):\n",
    "    print(len(doc1))\n",
    "    print(data.get_text())\n",
    "    print(i)"
   ]
  },
  {
   "cell_type": "code",
   "execution_count": null,
   "metadata": {},
   "outputs": [],
   "source": []
  },
  {
   "cell_type": "code",
   "execution_count": null,
   "metadata": {},
   "outputs": [],
   "source": []
  }
 ],
 "metadata": {
  "kernelspec": {
   "display_name": "Python 3",
   "language": "python",
   "name": "python3"
  },
  "language_info": {
   "codemirror_mode": {
    "name": "ipython",
    "version": 3
   },
   "file_extension": ".py",
   "mimetype": "text/x-python",
   "name": "python",
   "nbconvert_exporter": "python",
   "pygments_lexer": "ipython3",
   "version": "3.7.1"
  }
 },
 "nbformat": 4,
 "nbformat_minor": 2
}
